{
 "cells": [
  {
   "cell_type": "code",
   "execution_count": null,
   "metadata": {},
   "outputs": [
    {
     "name": "stdout",
     "output_type": "stream",
     "text": [
      "132.66\n",
      "inflam_001\n",
      "inflam_001 weight in kilograms: 60.3\n",
      "<class 'float'>\n",
      "<class 'str'>\n",
      "weight in pounds: 132.66\n",
      "weight in kilograms is now: 65.0\n"
     ]
    }
   ],
   "source": [
    "#Notes on Software Carprentery scenaario. A miracle Arthritis Inflammation Cure \n",
    "#Link: https://swcarpentry.github.io/python-novice-inflammation/\n",
    "#Tutorial was done using VSCode Python plugin in combination with terminal \n",
    "\n",
    "# Study Goals 1: Calculate average inflammation per day for all patients 2:Plot result to dsicuss and share with colleague\n",
    "\n",
    "#PEP notes do not make arguments on line same line as function. unless hanging indent is used to align with line below \n",
    "# Example\n",
    "#foo = long_function_name(var_one, var_two,\n",
    "                        # var_three, var_four)\n",
    "\n",
    "#testing functions beacuse python shell was failing to open in VSCODE. \n",
    "#Created a python profile and installed packages seems to be working now\n",
    "# print(\"hello world\")\n",
    "\n",
    "#Example setting varaibles \n",
    "weight_kg = 60.3\n",
    "weight_lb = 2.2 * weight_kg\n",
    "\n",
    "patient_id = '001'\n",
    "\n",
    "#Example adding a prefix or suffix to patient identifier \n",
    "patient_id = 'inflam_' + patient_id\n",
    "# patient_id = patient_id + '_inflam'\n",
    "\n",
    "print(weight_lb)\n",
    "print(patient_id)\n",
    "\n",
    "#Now display multiple things at once \n",
    "print(patient_id, 'weight in kilograms:', weight_kg)\n",
    "\n",
    "#Calling a function inside of another function, type tells you a values data type \n",
    "print(type(60.3))\n",
    "print(type(patient_id))\n",
    "\n",
    "#Doing arithmetic using varaibles inside the print func\n",
    "print('weight in pounds:', 2.2 * weight_kg)\n",
    "\n",
    "#Change your value of weight in kg \n",
    "weight_kg = 65.0\n",
    "print('weight in kilograms is now:', weight_kg)\n",
    "\n",
    "#Stopped at variables as sticky notes section on 11/25/2024 in python fundementals"
   ]
  }
 ],
 "metadata": {
  "kernelspec": {
   "display_name": "base",
   "language": "python",
   "name": "python3"
  },
  "language_info": {
   "codemirror_mode": {
    "name": "ipython",
    "version": 3
   },
   "file_extension": ".py",
   "mimetype": "text/x-python",
   "name": "python",
   "nbconvert_exporter": "python",
   "pygments_lexer": "ipython3",
   "version": "3.12.7"
  }
 },
 "nbformat": 4,
 "nbformat_minor": 2
}
